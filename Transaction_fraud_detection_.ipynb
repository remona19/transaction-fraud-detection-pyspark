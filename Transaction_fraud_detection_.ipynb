{
  "nbformat": 4,
  "nbformat_minor": 0,
  "metadata": {
    "colab": {
      "provenance": []
    },
    "kernelspec": {
      "name": "python3",
      "display_name": "Python 3"
    },
    "language_info": {
      "name": "python"
    }
  },
  "cells": [
    {
      "cell_type": "markdown",
      "source": [
        "TRANSACTION FRAUD DETECTION"
      ],
      "metadata": {
        "id": "6-7dCwXof4YN"
      }
    },
    {
      "cell_type": "code",
      "execution_count": null,
      "metadata": {
        "colab": {
          "base_uri": "https://localhost:8080/"
        },
        "id": "ahDAzOvc0q2K",
        "outputId": "f8bcab15-5cc7-4091-8cf0-963d73368c2e"
      },
      "outputs": [
        {
          "output_type": "stream",
          "name": "stdout",
          "text": [
            "Requirement already satisfied: pyspark in /usr/local/lib/python3.10/dist-packages (3.5.1)\n",
            "Requirement already satisfied: py4j==0.10.9.7 in /usr/local/lib/python3.10/dist-packages (from pyspark) (0.10.9.7)\n"
          ]
        }
      ],
      "source": [
        "!pip install pyspark"
      ]
    },
    {
      "cell_type": "markdown",
      "source": [
        "Import libraries"
      ],
      "metadata": {
        "id": "MtJAF_wjb25I"
      }
    },
    {
      "cell_type": "code",
      "source": [
        "import pyspark.sql.functions as F\n",
        "from pyspark.sql.types import *\n",
        "from pyspark.sql import SparkSession\n",
        "from pyspark.sql.functions import sum, col, desc\n",
        "from pyspark.sql.functions import min, max\n",
        "import numpy as np\n",
        "import pandas as pd\n",
        "import seaborn as sns\n",
        "import matplotlib.pyplot as plt"
      ],
      "metadata": {
        "id": "WRI7Hq9Y1X1_"
      },
      "execution_count": null,
      "outputs": []
    },
    {
      "cell_type": "markdown",
      "source": [
        "Create Spark session"
      ],
      "metadata": {
        "id": "7hA15Y8zb7ER"
      }
    },
    {
      "cell_type": "code",
      "source": [
        "from pyspark.sql import SparkSession\n",
        "spark = SparkSession.builder.master('local[1]').appName('Transaction fraud detection').getOrCreate()"
      ],
      "metadata": {
        "id": "M-1PGq_-1fuR"
      },
      "execution_count": null,
      "outputs": []
    },
    {
      "cell_type": "markdown",
      "source": [
        "Load the dataset"
      ],
      "metadata": {
        "id": "Va6A7pPAbsOq"
      }
    },
    {
      "cell_type": "code",
      "source": [
        "data = spark.read.csv('/content/drive/MyDrive/fraud_0.1origbase.csv',header=True,inferSchema=True)"
      ],
      "metadata": {
        "id": "T_AWAAJm1ppX"
      },
      "execution_count": null,
      "outputs": []
    },
    {
      "cell_type": "code",
      "source": [
        "data.printSchema()"
      ],
      "metadata": {
        "colab": {
          "base_uri": "https://localhost:8080/"
        },
        "id": "IiSpytLq4CjT",
        "outputId": "3c93fc51-7ba8-420d-bbc2-e60bc27dc0c2"
      },
      "execution_count": null,
      "outputs": [
        {
          "output_type": "stream",
          "name": "stdout",
          "text": [
            "root\n",
            " |-- step: integer (nullable = true)\n",
            " |-- type: string (nullable = true)\n",
            " |-- amount: double (nullable = true)\n",
            " |-- nameOrig: string (nullable = true)\n",
            " |-- oldbalanceOrg: double (nullable = true)\n",
            " |-- newbalanceOrig: double (nullable = true)\n",
            " |-- nameDest: string (nullable = true)\n",
            " |-- oldbalanceDest: double (nullable = true)\n",
            " |-- newbalanceDest: double (nullable = true)\n",
            " |-- isFraud: integer (nullable = true)\n",
            " |-- isFlaggedFraud: integer (nullable = true)\n",
            "\n"
          ]
        }
      ]
    },
    {
      "cell_type": "code",
      "source": [
        "data.describe().show()"
      ],
      "metadata": {
        "colab": {
          "base_uri": "https://localhost:8080/"
        },
        "id": "7D9wOmTn4npx",
        "outputId": "62b14666-9a90-451b-8bf7-cf93880a0ea2"
      },
      "execution_count": null,
      "outputs": [
        {
          "output_type": "stream",
          "name": "stdout",
          "text": [
            "+-------+-----------------+--------+-----------------+-----------+-----------------+-----------------+-----------+------------------+------------------+--------------------+--------------------+\n",
            "|summary|             step|    type|           amount|   nameOrig|    oldbalanceOrg|   newbalanceOrig|   nameDest|    oldbalanceDest|    newbalanceDest|             isFraud|      isFlaggedFraud|\n",
            "+-------+-----------------+--------+-----------------+-----------+-----------------+-----------------+-----------+------------------+------------------+--------------------+--------------------+\n",
            "|  count|           636262|  636262|           636262|     636262|           636262|           636262|     636262|            636262|            636262|              636262|              636262|\n",
            "|   mean|242.9319352719477|    NULL|180058.5194135685|       NULL|831793.6519234563|852835.3756044391|       NULL|1096212.2446619945|1221808.5280917739|0.001290348944302...|3.143359182223675...|\n",
            "| stddev|142.3308567511921|    NULL|606971.3530096713|       NULL|2885636.270120222|2921296.302158687|       NULL|3375388.8888825052|3656212.6678777942| 0.03589827251144859|0.001772950716140...|\n",
            "|    min|                1| CASH_IN|              0.0|C1000001337|              0.0|              0.0|C1000004940|               0.0|               0.0|                   0|                   0|\n",
            "|    max|              742|TRANSFER|    5.722961571E7| C999998175|    4.368661633E7|    4.367380221E7|   M9999977|    3.5518553706E8|     3.555534163E8|                   1|                   1|\n",
            "+-------+-----------------+--------+-----------------+-----------+-----------------+-----------------+-----------+------------------+------------------+--------------------+--------------------+\n",
            "\n"
          ]
        }
      ]
    },
    {
      "cell_type": "code",
      "source": [
        "data.columns"
      ],
      "metadata": {
        "colab": {
          "base_uri": "https://localhost:8080/"
        },
        "id": "c2HZ7zbI5joT",
        "outputId": "2e9001c8-ecba-4147-b051-364cf381c90f"
      },
      "execution_count": null,
      "outputs": [
        {
          "output_type": "execute_result",
          "data": {
            "text/plain": [
              "['step',\n",
              " 'type',\n",
              " 'amount',\n",
              " 'nameOrig',\n",
              " 'oldbalanceOrg',\n",
              " 'newbalanceOrig',\n",
              " 'nameDest',\n",
              " 'oldbalanceDest',\n",
              " 'newbalanceDest',\n",
              " 'isFraud',\n",
              " 'isFlaggedFraud']"
            ]
          },
          "metadata": {},
          "execution_count": 80
        }
      ]
    },
    {
      "cell_type": "markdown",
      "source": [
        "Actions"
      ],
      "metadata": {
        "id": "OsHsXcNxcATm"
      }
    },
    {
      "cell_type": "code",
      "source": [
        "rdd1 = data.count()\n",
        "print(f\"Number of rows in data : {rdd1}\")"
      ],
      "metadata": {
        "colab": {
          "base_uri": "https://localhost:8080/"
        },
        "id": "e2_R22B7WpYP",
        "outputId": "9d90ee7b-6e1c-4984-ab25-dfc0b21e5e66"
      },
      "execution_count": null,
      "outputs": [
        {
          "output_type": "stream",
          "name": "stdout",
          "text": [
            "Number of rows in data : 636262\n"
          ]
        }
      ]
    },
    {
      "cell_type": "code",
      "source": [
        "data.show(10,False)"
      ],
      "metadata": {
        "colab": {
          "base_uri": "https://localhost:8080/"
        },
        "id": "foGmIA5G38hD",
        "outputId": "aa46b6f3-5ee7-4690-b19e-5ffb67ada3df"
      },
      "execution_count": null,
      "outputs": [
        {
          "output_type": "stream",
          "name": "stdout",
          "text": [
            "+----+--------+---------+-----------+-------------+--------------+-----------+--------------+--------------+-------+--------------+\n",
            "|step|type    |amount   |nameOrig   |oldbalanceOrg|newbalanceOrig|nameDest   |oldbalanceDest|newbalanceDest|isFraud|isFlaggedFraud|\n",
            "+----+--------+---------+-----------+-------------+--------------+-----------+--------------+--------------+-------+--------------+\n",
            "|283 |CASH_IN |210329.84|C1159819632|3778062.79   |3988392.64    |C1218876138|1519266.6     |1308936.76    |0      |0             |\n",
            "|132 |CASH_OUT|215489.19|C1372369468|21518.0      |0.0           |C467105520 |6345756.55    |6794954.89    |0      |0             |\n",
            "|355 |DEBIT   |4431.05  |C1059822709|20674.0      |16242.95      |C76588246  |80876.56      |85307.61      |0      |0             |\n",
            "|135 |CASH_OUT|214026.2 |C1464960643|46909.73     |0.0           |C1059379810|1.346745036E7 |1.368147656E7 |0      |0             |\n",
            "|381 |CASH_OUT|8858.45  |C831134427 |0.0          |0.0           |C579876929 |1667180.58    |1676039.03    |0      |0             |\n",
            "|208 |CASH_IN |256440.86|C1001269496|554.0        |256994.86     |C1503528288|0.0           |0.0           |0      |0             |\n",
            "|347 |CASH_OUT|120989.98|C803141068 |0.0          |0.0           |C1951883397|6963396.37    |7084386.35    |0      |0             |\n",
            "|183 |CASH_OUT|62655.01 |C309960888 |18997.0      |0.0           |C1715810305|130706.17     |193361.18     |0      |0             |\n",
            "|184 |CASH_OUT|256745.11|C1447987365|0.0          |0.0           |C1629212528|1475890.41    |1732635.52    |0      |0             |\n",
            "|12  |PAYMENT |13693.22 |C243045039 |9040.0       |0.0           |M55115072  |0.0           |0.0           |0      |0             |\n",
            "+----+--------+---------+-----------+-------------+--------------+-----------+--------------+--------------+-------+--------------+\n",
            "only showing top 10 rows\n",
            "\n"
          ]
        }
      ]
    },
    {
      "cell_type": "code",
      "source": [
        "rdd2 =data.first()\n",
        "print(f\"The first element of dataset: {rdd2}\")"
      ],
      "metadata": {
        "colab": {
          "base_uri": "https://localhost:8080/"
        },
        "id": "K41cyiFKW-zE",
        "outputId": "9773a140-9f5e-48ad-9a14-64932b29454d"
      },
      "execution_count": null,
      "outputs": [
        {
          "output_type": "stream",
          "name": "stdout",
          "text": [
            "The first element of dataset: Row(step=283, type='CASH_IN', amount=210329.84, nameOrig='C1159819632', oldbalanceOrg=3778062.79, newbalanceOrig=3988392.64, nameDest='C1218876138', oldbalanceDest=1519266.6, newbalanceDest=1308936.76, isFraud=0, isFlaggedFraud=0)\n"
          ]
        }
      ]
    },
    {
      "cell_type": "code",
      "source": [
        "first_five_rows = data.take(5)\n",
        "first_five_rows"
      ],
      "metadata": {
        "colab": {
          "base_uri": "https://localhost:8080/"
        },
        "id": "J9cWe2McXH3P",
        "outputId": "d4a2f74d-5e5d-4cca-bf01-6060bd5a30e1"
      },
      "execution_count": null,
      "outputs": [
        {
          "output_type": "execute_result",
          "data": {
            "text/plain": [
              "[Row(step=283, type='CASH_IN', amount=210329.84, nameOrig='C1159819632', oldbalanceOrg=3778062.79, newbalanceOrig=3988392.64, nameDest='C1218876138', oldbalanceDest=1519266.6, newbalanceDest=1308936.76, isFraud=0, isFlaggedFraud=0),\n",
              " Row(step=132, type='CASH_OUT', amount=215489.19, nameOrig='C1372369468', oldbalanceOrg=21518.0, newbalanceOrig=0.0, nameDest='C467105520', oldbalanceDest=6345756.55, newbalanceDest=6794954.89, isFraud=0, isFlaggedFraud=0),\n",
              " Row(step=355, type='DEBIT', amount=4431.05, nameOrig='C1059822709', oldbalanceOrg=20674.0, newbalanceOrig=16242.95, nameDest='C76588246', oldbalanceDest=80876.56, newbalanceDest=85307.61, isFraud=0, isFlaggedFraud=0),\n",
              " Row(step=135, type='CASH_OUT', amount=214026.2, nameOrig='C1464960643', oldbalanceOrg=46909.73, newbalanceOrig=0.0, nameDest='C1059379810', oldbalanceDest=13467450.36, newbalanceDest=13681476.56, isFraud=0, isFlaggedFraud=0),\n",
              " Row(step=381, type='CASH_OUT', amount=8858.45, nameOrig='C831134427', oldbalanceOrg=0.0, newbalanceOrig=0.0, nameDest='C579876929', oldbalanceDest=1667180.58, newbalanceDest=1676039.03, isFraud=0, isFlaggedFraud=0)]"
            ]
          },
          "metadata": {},
          "execution_count": 84
        }
      ]
    },
    {
      "cell_type": "markdown",
      "source": [
        "Transformations"
      ],
      "metadata": {
        "id": "ScFmWseEXR_C"
      }
    },
    {
      "cell_type": "code",
      "source": [
        "filtered_data = data.filter(data[\"isFraud\"] == 1)\n",
        "filtered_data.count()"
      ],
      "metadata": {
        "colab": {
          "base_uri": "https://localhost:8080/"
        },
        "id": "AnVR1D2rXUuf",
        "outputId": "47f06187-55b3-49d7-e32e-f5da7be12e26"
      },
      "execution_count": null,
      "outputs": [
        {
          "output_type": "execute_result",
          "data": {
            "text/plain": [
              "821"
            ]
          },
          "metadata": {},
          "execution_count": 85
        }
      ]
    },
    {
      "cell_type": "code",
      "source": [
        "sorted_data = data.orderBy(\"amount\")\n",
        "sorted_data.show()"
      ],
      "metadata": {
        "colab": {
          "base_uri": "https://localhost:8080/"
        },
        "id": "lUYXGtP3X9zV",
        "outputId": "3e741453-fca5-47c7-91e6-c5c98314209c"
      },
      "execution_count": null,
      "outputs": [
        {
          "output_type": "stream",
          "name": "stdout",
          "text": [
            "+----+--------+------+-----------+-------------+--------------+-----------+--------------+--------------+-------+--------------+\n",
            "|step|    type|amount|   nameOrig|oldbalanceOrg|newbalanceOrig|   nameDest|oldbalanceDest|newbalanceDest|isFraud|isFlaggedFraud|\n",
            "+----+--------+------+-----------+-------------+--------------+-----------+--------------+--------------+-------+--------------+\n",
            "| 741|CASH_OUT|   0.0| C312737633|          0.0|           0.0|C1400061387|     267522.87|     267522.87|      1|             0|\n",
            "| 646|CASH_OUT|   0.0|C2060908932|          0.0|           0.0|C1587892888|           0.0|           0.0|      1|             0|\n",
            "| 300| PAYMENT|  0.17| C757209321|     276954.0|     276953.83|M2118236430|           0.0|           0.0|      0|             0|\n",
            "| 277| PAYMENT|   0.3| C986345541|      80499.0|       80498.7| M122005350|           0.0|           0.0|      0|             0|\n",
            "| 300| PAYMENT|  0.37| C494444343|          0.0|           0.0|M1722927281|           0.0|           0.0|      0|             0|\n",
            "| 546| CASH_IN|  0.43|C1656652840|   2151987.23|    2151987.65| C830511064|     193081.33|      193080.9|      0|             0|\n",
            "| 208| PAYMENT|  0.51|  C30582707|      16044.0|      16043.49| M398652614|           0.0|           0.0|      0|             0|\n",
            "| 288| PAYMENT|  0.55|C1921559737|          0.0|           0.0| M963762675|           0.0|           0.0|      0|             0|\n",
            "| 286| PAYMENT|  0.58|C1616332468|     13987.84|      13987.27| M285379154|           0.0|           0.0|      0|             0|\n",
            "|  21| PAYMENT|  0.78| C541193376|       6041.0|       6040.22| M475634450|           0.0|           0.0|      0|             0|\n",
            "| 187| PAYMENT|  0.87|C1712915773|          0.0|           0.0|M1905116693|           0.0|           0.0|      0|             0|\n",
            "| 181|CASH_OUT|   1.0| C216680902|      30584.0|       30583.0| C615973643|    1119573.12|    1119574.12|      0|             0|\n",
            "| 260| PAYMENT|   1.1|C1956914624|     33142.39|      33141.29|M1363848747|           0.0|           0.0|      0|             0|\n",
            "| 189| PAYMENT|  1.36| C347607339|      34784.0|      34782.64|M1929299447|           0.0|           0.0|      0|             0|\n",
            "|  46| PAYMENT|  1.48| C591894775|       1751.0|       1749.52| M371177082|           0.0|           0.0|      0|             0|\n",
            "| 257| PAYMENT|  1.55| C252655459|          0.0|           0.0|M1592922015|           0.0|           0.0|      0|             0|\n",
            "| 374| PAYMENT|  1.59|C1266735231|          0.0|           0.0| M695980628|           0.0|           0.0|      0|             0|\n",
            "| 184| PAYMENT|  1.62| C538754406|          0.0|           0.0| M289963986|           0.0|           0.0|      0|             0|\n",
            "| 154|CASH_OUT|  1.65|C1551130995|          0.0|           0.0| C794456028|    6653022.72|    6653024.37|      0|             0|\n",
            "| 375| PAYMENT|  1.73|C1574082753|          0.0|           0.0|M1299033491|           0.0|           0.0|      0|             0|\n",
            "+----+--------+------+-----------+-------------+--------------+-----------+--------------+--------------+-------+--------------+\n",
            "only showing top 20 rows\n",
            "\n"
          ]
        }
      ]
    },
    {
      "cell_type": "code",
      "source": [
        "data = data.drop('nameOrig')"
      ],
      "metadata": {
        "id": "6mpaakvW4tCz"
      },
      "execution_count": null,
      "outputs": []
    },
    {
      "cell_type": "code",
      "source": [
        "data.groupBy(\"type\").count().show(truncate=False)"
      ],
      "metadata": {
        "colab": {
          "base_uri": "https://localhost:8080/"
        },
        "id": "O39i10Gkes_l",
        "outputId": "f7bad635-4aa6-445b-e9e0-f8957d0ec797"
      },
      "execution_count": null,
      "outputs": [
        {
          "output_type": "stream",
          "name": "stdout",
          "text": [
            "+--------+------+\n",
            "|type    |count |\n",
            "+--------+------+\n",
            "|TRANSFER|53294 |\n",
            "|CASH_IN |139614|\n",
            "|CASH_OUT|224216|\n",
            "|PAYMENT |214968|\n",
            "|DEBIT   |4170  |\n",
            "+--------+------+\n",
            "\n"
          ]
        }
      ]
    },
    {
      "cell_type": "markdown",
      "source": [
        "Preprocessing"
      ],
      "metadata": {
        "id": "E7_FuiqPcFjB"
      }
    },
    {
      "cell_type": "markdown",
      "source": [],
      "metadata": {
        "id": "S9Doe-cOY2_i"
      }
    },
    {
      "cell_type": "code",
      "source": [
        "data.columns"
      ],
      "metadata": {
        "colab": {
          "base_uri": "https://localhost:8080/"
        },
        "id": "-l17-N--49gK",
        "outputId": "dad819d1-7785-44b5-c37f-8f69527757fb"
      },
      "execution_count": null,
      "outputs": [
        {
          "output_type": "execute_result",
          "data": {
            "text/plain": [
              "['step',\n",
              " 'type',\n",
              " 'amount',\n",
              " 'oldbalanceOrg',\n",
              " 'newbalanceOrig',\n",
              " 'nameDest',\n",
              " 'oldbalanceDest',\n",
              " 'newbalanceDest',\n",
              " 'isFraud',\n",
              " 'isFlaggedFraud']"
            ]
          },
          "metadata": {},
          "execution_count": 89
        }
      ]
    },
    {
      "cell_type": "code",
      "source": [
        "print(f'Number of rows and column in dataframe: {data.toPandas().shape}')"
      ],
      "metadata": {
        "colab": {
          "base_uri": "https://localhost:8080/"
        },
        "id": "2N4nj-1V5p2v",
        "outputId": "14ca070a-29e1-44ee-ded6-3c6f4c04c0c7"
      },
      "execution_count": null,
      "outputs": [
        {
          "output_type": "stream",
          "name": "stdout",
          "text": [
            "Number of rows and column in dataframe: (636262, 10)\n"
          ]
        }
      ]
    },
    {
      "cell_type": "code",
      "source": [
        "data = data.withColumn('diff_new_old_balance',col('newbalanceOrig')-col('oldbalanceOrg'))"
      ],
      "metadata": {
        "id": "wyLkNjcM_vla"
      },
      "execution_count": null,
      "outputs": []
    },
    {
      "cell_type": "code",
      "source": [
        "data = data.withColumn('diff_new_old_destiny',col('newbalanceDest')-col('oldbalanceDest'))"
      ],
      "metadata": {
        "id": "gvHcosDZBwmx"
      },
      "execution_count": null,
      "outputs": []
    },
    {
      "cell_type": "code",
      "source": [
        "featurecol = ['step','amount','oldbalanceOrg','newbalanceOrig','oldbalanceDest','newbalanceDest','diff_new_old_balance','diff_new_old_destiny']"
      ],
      "metadata": {
        "id": "cVqfW_1dCeOG"
      },
      "execution_count": null,
      "outputs": []
    },
    {
      "cell_type": "markdown",
      "source": [
        "Vector Assembler"
      ],
      "metadata": {
        "id": "K0O_RyavcQ9V"
      }
    },
    {
      "cell_type": "code",
      "source": [
        "from pyspark.ml.feature import VectorAssembler\n",
        "assembler = VectorAssembler(inputCols = featurecol,  outputCol = 'features')\n",
        "output = assembler.transform(data)"
      ],
      "metadata": {
        "id": "eIDa82Z9CI0U"
      },
      "execution_count": null,
      "outputs": []
    },
    {
      "cell_type": "markdown",
      "source": [
        "Standardize the data"
      ],
      "metadata": {
        "id": "x66LsekZcT0U"
      }
    },
    {
      "cell_type": "code",
      "source": [
        "from pyspark.ml.feature import StandardScaler\n",
        "scale=StandardScaler (inputCol='features', outputCol='standardized')\n",
        "data_scale=scale.fit(output)\n",
        "data_scale_output=data_scale.transform(output)\n",
        "data_scale_output.show(10, False)"
      ],
      "metadata": {
        "colab": {
          "base_uri": "https://localhost:8080/"
        },
        "id": "lk5ABg_tXy_x",
        "outputId": "cf077e7b-91db-43ec-e8a7-849cffec92cc"
      },
      "execution_count": null,
      "outputs": [
        {
          "output_type": "stream",
          "name": "stdout",
          "text": [
            "+----+--------+---------+-------------+--------------+-----------+--------------+--------------+-------+--------------+--------------------+--------------------+--------------------------------------------------------------------------------------------------+---------------------------------------------------------------------------------------------------------------------------------------------------------------------+\n",
            "|step|type    |amount   |oldbalanceOrg|newbalanceOrig|nameDest   |oldbalanceDest|newbalanceDest|isFraud|isFlaggedFraud|diff_new_old_balance|diff_new_old_destiny|features                                                                                          |standardized                                                                                                                                                         |\n",
            "+----+--------+---------+-------------+--------------+-----------+--------------+--------------+-------+--------------+--------------------+--------------------+--------------------------------------------------------------------------------------------------+---------------------------------------------------------------------------------------------------------------------------------------------------------------------+\n",
            "|283 |CASH_IN |210329.84|3778062.79   |3988392.64    |C1218876138|1519266.6     |1308936.76    |0      |0             |210329.8500000001   |-210329.84000000008 |[283.0,210329.84,3778062.79,3988392.64,1519266.6,1308936.76,210329.8500000001,-210329.84000000008]|[1.9883249947318942,0.34652350388050007,1.3092650758241975,1.365281788448734,0.4501012031543991,0.35800345299929476,1.439807557878265,-0.24805827832122404]          |\n",
            "|132 |CASH_OUT|215489.19|21518.0      |0.0           |C467105520 |6345756.55    |6794954.89    |0      |0             |-21518.0            |449198.33999999985  |[132.0,215489.19,21518.0,0.0,6345756.55,6794954.89,-21518.0,449198.33999999985]                   |[0.9274166053166432,0.3550236579230547,0.007456934272282193,0.0,1.88000753658371,1.8584681765637348,-0.14730091344820762,0.5297744097801422]                         |\n",
            "|355 |DEBIT   |4431.05  |20674.0      |16242.95      |C76588246  |80876.56      |85307.61      |0      |0             |-4431.049999999999  |4431.050000000003   |[355.0,4431.05,20674.0,16242.95,80876.56,85307.61,-4431.049999999999,4431.050000000003]           |[2.494188597631881,0.007300262159043576,0.007164451117444096,0.005560185725767302,0.02396066428564213,0.023332234131095198,-0.030332638374137015,0.00522588061758265]|\n",
            "|135 |CASH_OUT|214026.2 |46909.73     |0.0           |C1059379810|1.346745036E7 |1.368147656E7 |0      |0             |-46909.73           |214026.20000000112  |[135.0,214026.2,46909.73,0.0,1.346745036E7,1.368147656E7,-46909.73,214026.20000000112]            |[0.948494255437476,0.35261334647631876,0.01625628652014612,0.0,3.989895921135991,3.741980514481779,-0.32111934559944183,0.25241768209225196]                         |\n",
            "|381 |CASH_OUT|8858.45  |0.0          |0.0           |C579876929 |1667180.58    |1676039.03    |0      |0             |0.0                 |8858.449999999953   |[381.0,8858.45,0.0,0.0,1667180.58,1676039.03,0.0,8858.449999999953]                               |[2.6768615653457655,0.014594510854713798,0.0,0.0,0.49392251822928834,0.4584085178428242,0.0,0.01044745650733455]                                                     |\n",
            "|208 |CASH_IN |256440.86|554.0        |256994.86     |C1503528288|0.0           |0.0           |0      |0             |256440.86           |0.0                 |[208.0,256440.86,554.0,256994.86,0.0,0.0,256440.86,0.0]                                           |[1.461383741711074,0.42249252576490703,1.9198538836529114E-4,0.08797288375372492,0.0,0.0,1.7554592863390617,0.0]                                                     |\n",
            "|347 |CASH_OUT|120989.98|0.0          |0.0           |C1951883397|6963396.37    |7084386.35    |0      |0             |0.0                 |120989.97999999952  |[347.0,120989.98,0.0,0.0,6963396.37,7084386.35,0.0,120989.97999999952]                            |[2.4379815306429937,0.19933392144467768,0.0,0.0,2.0629908431989326,1.9376297260389188,0.0,0.14269285866864728]                                                       |\n",
            "|183 |CASH_OUT|62655.01 |18997.0      |0.0           |C1715810305|130706.17     |193361.18     |0      |0             |-18997.0            |62655.009999999995  |[183.0,62655.01,18997.0,0.0,130706.17,193361.18,-18997.0,62655.009999999995]                      |[1.2857366573708007,0.10322564597048033,0.0065832967920134225,0.0,0.03872329213102126,0.05288564904848281,-0.13004347303539363,0.07389390829565157]                  |\n",
            "|184 |CASH_OUT|256745.11|0.0          |0.0           |C1629212528|1475890.41    |1732635.52    |0      |0             |0.0                 |256745.1100000001   |[184.0,256745.11,0.0,0.0,1475890.41,1732635.52,0.0,256745.1100000001]                             |[1.2927625407444117,0.422993785006371,0.0,0.0,0.4372504794517561,0.47388805777693077,0.0,0.3027994028521739]                                                         |\n",
            "|12  |PAYMENT |13693.22 |9040.0       |0.0           |M55115072  |0.0           |0.0           |0      |0             |-9040.0             |0.0                 |(8,[0,1,2,6],[12.0,13693.22,9040.0,-9040.0])                                                      |(8,[0,1,2,6],[0.0843106004833312,0.0225599114885769,0.003132757961772982,-0.061883086605251277])                                                                     |\n",
            "+----+--------+---------+-------------+--------------+-----------+--------------+--------------+-------+--------------+--------------------+--------------------+--------------------------------------------------------------------------------------------------+---------------------------------------------------------------------------------------------------------------------------------------------------------------------+\n",
            "only showing top 10 rows\n",
            "\n"
          ]
        }
      ]
    },
    {
      "cell_type": "code",
      "source": [
        "final_data = data_scale_output.select('features','isFraud')\n",
        "final_data.show()"
      ],
      "metadata": {
        "colab": {
          "base_uri": "https://localhost:8080/"
        },
        "id": "zj7FYOsnEO3D",
        "outputId": "776bd06e-30e3-49e6-c54d-e3ee46fc4b90"
      },
      "execution_count": null,
      "outputs": [
        {
          "output_type": "stream",
          "name": "stdout",
          "text": [
            "+--------------------+-------+\n",
            "|            features|isFraud|\n",
            "+--------------------+-------+\n",
            "|[283.0,210329.84,...|      0|\n",
            "|[132.0,215489.19,...|      0|\n",
            "|[355.0,4431.05,20...|      0|\n",
            "|[135.0,214026.2,4...|      0|\n",
            "|[381.0,8858.45,0....|      0|\n",
            "|[208.0,256440.86,...|      0|\n",
            "|[347.0,120989.98,...|      0|\n",
            "|[183.0,62655.01,1...|      0|\n",
            "|[184.0,256745.11,...|      0|\n",
            "|(8,[0,1,2,6],[12....|      0|\n",
            "|(8,[0,1],[15.0,86...|      0|\n",
            "|(8,[0,1],[186.0,1...|      0|\n",
            "|[321.0,147708.56,...|      0|\n",
            "|[691.0,41882.88,7...|      0|\n",
            "|[239.0,749.39,0.0...|      0|\n",
            "|[163.0,126511.11,...|      0|\n",
            "|[350.0,230581.53,...|      0|\n",
            "|[137.0,317575.58,...|      0|\n",
            "|[188.0,87633.89,2...|      0|\n",
            "|[159.0,254252.74,...|      0|\n",
            "+--------------------+-------+\n",
            "only showing top 20 rows\n",
            "\n"
          ]
        }
      ]
    },
    {
      "cell_type": "markdown",
      "source": [
        "Splitting the data into train and test"
      ],
      "metadata": {
        "id": "BktMoRmtPQB9"
      }
    },
    {
      "cell_type": "code",
      "source": [
        "train_data,test_data = final_data.randomSplit([0.7,0.3])\n",
        "train_data.describe().show()\n",
        "test_data.describe().show()"
      ],
      "metadata": {
        "colab": {
          "base_uri": "https://localhost:8080/"
        },
        "id": "Rg6P0X6-FZho",
        "outputId": "792535f9-8bfb-409b-f203-bcdd445e799d"
      },
      "execution_count": null,
      "outputs": [
        {
          "output_type": "stream",
          "name": "stdout",
          "text": [
            "+-------+--------------------+\n",
            "|summary|             isFraud|\n",
            "+-------+--------------------+\n",
            "|  count|              445491|\n",
            "|   mean|0.001313157841572557|\n",
            "| stddev| 0.03621375984146948|\n",
            "|    min|                   0|\n",
            "|    max|                   1|\n",
            "+-------+--------------------+\n",
            "\n",
            "+-------+--------------------+\n",
            "|summary|             isFraud|\n",
            "+-------+--------------------+\n",
            "|  count|              190771|\n",
            "|   mean|0.001237085301225029|\n",
            "| stddev|  0.0351505533079575|\n",
            "|    min|                   0|\n",
            "|    max|                   1|\n",
            "+-------+--------------------+\n",
            "\n"
          ]
        }
      ]
    },
    {
      "cell_type": "markdown",
      "source": [
        "model 1 - LogisticRegression"
      ],
      "metadata": {
        "id": "vgR2XDEINeD8"
      }
    },
    {
      "cell_type": "code",
      "source": [
        "from pyspark.ml.classification import LogisticRegression\n",
        "classifier1 = LogisticRegression(maxIter = 100,regParam = 0.1,labelCol = 'isFraud',featuresCol='features')\n",
        "model = classifier1.fit(train_data)\n",
        "pred_data = model.transform(test_data)\n",
        "pred_data.show(5)"
      ],
      "metadata": {
        "colab": {
          "base_uri": "https://localhost:8080/"
        },
        "id": "rqfiEkiyF-XY",
        "outputId": "20638329-8ffa-4255-8c5b-867486a36f2a"
      },
      "execution_count": null,
      "outputs": [
        {
          "output_type": "stream",
          "name": "stdout",
          "text": [
            "+--------------------+-------+--------------------+--------------------+----------+\n",
            "|            features|isFraud|       rawPrediction|         probability|prediction|\n",
            "+--------------------+-------+--------------------+--------------------+----------+\n",
            "|(8,[0,1],[1.0,181...|      0|[6.68042566919884...|[0.99874633012070...|       0.0|\n",
            "|(8,[0,1],[1.0,305...|      0|[6.68038681354771...|[0.99874628146867...|       0.0|\n",
            "|(8,[0,1],[1.0,346...|      0|[6.68037402317281...|[0.99874626545314...|       0.0|\n",
            "|(8,[0,1],[1.0,456...|      0|[6.68033979827220...|[0.99874622259726...|       0.0|\n",
            "|(8,[0,1],[1.0,625...|      0|[6.68028698738729...|[0.99874615646544...|       0.0|\n",
            "+--------------------+-------+--------------------+--------------------+----------+\n",
            "only showing top 5 rows\n",
            "\n"
          ]
        }
      ]
    },
    {
      "cell_type": "code",
      "source": [
        "from pyspark.ml.evaluation import BinaryClassificationEvaluator\n",
        "evaluator = BinaryClassificationEvaluator(rawPredictionCol='prediction',labelCol='isFraud')\n",
        "print(evaluator.evaluate(pred_data))"
      ],
      "metadata": {
        "colab": {
          "base_uri": "https://localhost:8080/"
        },
        "id": "fmfQnntcHB4W",
        "outputId": "67216266-a2b6-4b13-c264-4c6366e2d57b"
      },
      "execution_count": null,
      "outputs": [
        {
          "output_type": "stream",
          "name": "stdout",
          "text": [
            "0.5254237288135594\n"
          ]
        }
      ]
    },
    {
      "cell_type": "code",
      "source": [
        "from pyspark.ml.tuning import ParamGridBuilder, CrossValidator # Create ParamGrid for Cross Validation\n",
        "\n",
        "paramGrid = (ParamGridBuilder()\n",
        "             .addGrid(classifier1.regParam, [0.1, 0.3, 0.5])\n",
        "             .addGrid(classifier1.elasticNetParam, [0.0, 0.1, 0.2])\n",
        "             .addGrid(model.maxIter, [10, 20, 50])\n",
        "             .build())"
      ],
      "metadata": {
        "id": "k0eODoEdIGLL"
      },
      "execution_count": null,
      "outputs": []
    },
    {
      "cell_type": "code",
      "source": [
        "cv= CrossValidator (estimator=classifier1,estimatorParamMaps=paramGrid,evaluator=evaluator,numFolds=5)\n",
        "cvModel = cv.fit(train_data)\n",
        "predictions1 = cvModel.transform(test_data)\n",
        "print(evaluator.evaluate(predictions1))"
      ],
      "metadata": {
        "colab": {
          "base_uri": "https://localhost:8080/"
        },
        "id": "bh4iihouIu1i",
        "outputId": "7fcf3683-c65c-4196-8e90-a9c7970d8f6d"
      },
      "execution_count": null,
      "outputs": [
        {
          "output_type": "stream",
          "name": "stdout",
          "text": [
            "0.5254237288135594\n"
          ]
        }
      ]
    },
    {
      "cell_type": "markdown",
      "source": [
        "model 2 - DecisionTreeClassifier"
      ],
      "metadata": {
        "id": "aMMyW5eeNp-9"
      }
    },
    {
      "cell_type": "code",
      "source": [
        "from pyspark.ml.classification import DecisionTreeClassifier, RandomForestClassifier\n",
        "classifier2 = DecisionTreeClassifier(labelCol = 'isFraud', featuresCol='features')\n",
        "model2 = classifier2.fit(train_data)\n",
        "pred_data2 = model2.transform(test_data)\n",
        "pred_data2.show(10,False)"
      ],
      "metadata": {
        "colab": {
          "base_uri": "https://localhost:8080/"
        },
        "id": "VMywMop-JUcP",
        "outputId": "f0e5bd0b-8448-42c1-855a-851f2cfc4c78"
      },
      "execution_count": null,
      "outputs": [
        {
          "output_type": "stream",
          "name": "stdout",
          "text": [
            "+------------------------+-------+---------------+-----------------------------------------+----------+\n",
            "|features                |isFraud|rawPrediction  |probability                              |prediction|\n",
            "+------------------------+-------+---------------+-----------------------------------------+----------+\n",
            "|(8,[0,1],[1.0,1810.41]) |0      |[417495.0,78.0]|[0.9998132063136266,1.867936863734006E-4]|0.0       |\n",
            "|(8,[0,1],[1.0,3056.61]) |0      |[417495.0,78.0]|[0.9998132063136266,1.867936863734006E-4]|0.0       |\n",
            "|(8,[0,1],[1.0,3466.83]) |0      |[417495.0,78.0]|[0.9998132063136266,1.867936863734006E-4]|0.0       |\n",
            "|(8,[0,1],[1.0,4564.51]) |0      |[417495.0,78.0]|[0.9998132063136266,1.867936863734006E-4]|0.0       |\n",
            "|(8,[0,1],[1.0,6258.29]) |0      |[417495.0,78.0]|[0.9998132063136266,1.867936863734006E-4]|0.0       |\n",
            "|(8,[0,1],[1.0,7550.29]) |0      |[417495.0,78.0]|[0.9998132063136266,1.867936863734006E-4]|0.0       |\n",
            "|(8,[0,1],[1.0,9496.55]) |0      |[417495.0,78.0]|[0.9998132063136266,1.867936863734006E-4]|0.0       |\n",
            "|(8,[0,1],[2.0,2942.66]) |0      |[417495.0,78.0]|[0.9998132063136266,1.867936863734006E-4]|0.0       |\n",
            "|(8,[0,1],[2.0,9657.66]) |0      |[417495.0,78.0]|[0.9998132063136266,1.867936863734006E-4]|0.0       |\n",
            "|(8,[0,1],[2.0,14349.18])|0      |[417495.0,78.0]|[0.9998132063136266,1.867936863734006E-4]|0.0       |\n",
            "+------------------------+-------+---------------+-----------------------------------------+----------+\n",
            "only showing top 10 rows\n",
            "\n"
          ]
        }
      ]
    },
    {
      "cell_type": "code",
      "source": [
        "print(evaluator.evaluate(pred_data2))"
      ],
      "metadata": {
        "colab": {
          "base_uri": "https://localhost:8080/"
        },
        "id": "WQhuChsPJ0me",
        "outputId": "13391a46-a0f2-4ee4-d5be-44947eaac00d"
      },
      "execution_count": null,
      "outputs": [
        {
          "output_type": "stream",
          "name": "stdout",
          "text": [
            "0.752108147308671\n"
          ]
        }
      ]
    },
    {
      "cell_type": "code",
      "source": [
        "cv= CrossValidator (estimator=classifier2,estimatorParamMaps=paramGrid,evaluator=evaluator,numFolds=5)\n",
        "cvModel = cv.fit(train_data)\n",
        "predictions2 = cvModel.transform(test_data)\n",
        "print(evaluator.evaluate(predictions2))"
      ],
      "metadata": {
        "colab": {
          "base_uri": "https://localhost:8080/"
        },
        "id": "-GEa8Rj3MVKM",
        "outputId": "b940b577-e2ca-4159-e200-a1de70fa08ed"
      },
      "execution_count": null,
      "outputs": [
        {
          "output_type": "stream",
          "name": "stdout",
          "text": [
            "0.7923099255823631\n"
          ]
        }
      ]
    },
    {
      "cell_type": "markdown",
      "source": [
        "model 3 - RandomForestClassifier"
      ],
      "metadata": {
        "id": "k1ML59uWNyG-"
      }
    },
    {
      "cell_type": "code",
      "source": [
        "classifier3 = RandomForestClassifier (numTrees=10, labelCol = 'isFraud',featuresCol='features')\n",
        "model3=classifier3.fit(train_data)\n",
        "pred_data3 = model.transform(test_data)\n",
        "pred_data3.show(10,False)"
      ],
      "metadata": {
        "colab": {
          "base_uri": "https://localhost:8080/"
        },
        "id": "fKV_F5C8Lo7o",
        "outputId": "dfa4293b-1234-43c4-f19e-811aa44c2f3e"
      },
      "execution_count": null,
      "outputs": [
        {
          "output_type": "stream",
          "name": "stdout",
          "text": [
            "+------------------------+-------+----------------------------------------+------------------------------------------+----------+\n",
            "|features                |isFraud|rawPrediction                           |probability                               |prediction|\n",
            "+------------------------+-------+----------------------------------------+------------------------------------------+----------+\n",
            "|(8,[0,1],[1.0,1810.41]) |0      |[6.680425669198847,-6.680425669198847]  |[0.9987463301207051,0.001253669879294872] |0.0       |\n",
            "|(8,[0,1],[1.0,3056.61]) |0      |[6.680386813547716,-6.680386813547716]  |[0.9987462814686717,0.001253718531328274] |0.0       |\n",
            "|(8,[0,1],[1.0,3466.83]) |0      |[6.68037402317281,-6.68037402317281]    |[0.9987462654531436,0.0012537345468563998]|0.0       |\n",
            "|(8,[0,1],[1.0,4564.51]) |0      |[6.680339798272206,-6.680339798272206]  |[0.9987462225972682,0.0012537774027318038]|0.0       |\n",
            "|(8,[0,1],[1.0,6258.29]) |0      |[6.680286987387297,-6.680286987387297]  |[0.9987461564654488,0.0012538435345511578]|0.0       |\n",
            "|(8,[0,1],[1.0,7550.29]) |0      |[6.6802467037239515,-6.6802467037239515]|[0.9987461060183552,0.0012538939816447714]|0.0       |\n",
            "|(8,[0,1],[1.0,9496.55]) |0      |[6.680186020687866,-6.680186020687866]  |[0.9987460300213704,0.0012539699786295877]|0.0       |\n",
            "|(8,[0,1],[2.0,2942.66]) |0      |[6.680309595440027,-6.680309595440027]  |[0.9987461847765475,0.0012538152234524702]|0.0       |\n",
            "|(8,[0,1],[2.0,9657.66]) |0      |[6.68010022640027,-6.68010022640027]    |[0.9987459225682181,0.0012540774317818526]|0.0       |\n",
            "|(8,[0,1],[2.0,14349.18])|0      |[6.679953948062607,-6.679953948062607]  |[0.9987457393405422,0.0012542606594577732]|0.0       |\n",
            "+------------------------+-------+----------------------------------------+------------------------------------------+----------+\n",
            "only showing top 10 rows\n",
            "\n"
          ]
        }
      ]
    },
    {
      "cell_type": "code",
      "source": [
        "print(evaluator.evaluate(pred_data3))"
      ],
      "metadata": {
        "colab": {
          "base_uri": "https://localhost:8080/"
        },
        "id": "M230UyTZL_qf",
        "outputId": "02385495-60d4-4017-f24c-8d96cc4354a0"
      },
      "execution_count": null,
      "outputs": [
        {
          "output_type": "stream",
          "name": "stdout",
          "text": [
            "0.5254237288135594\n"
          ]
        }
      ]
    },
    {
      "cell_type": "code",
      "source": [
        "cv= CrossValidator (estimator=classifier3,estimatorParamMaps=paramGrid,evaluator=evaluator,numFolds=5)\n",
        "cvModel = cv.fit(train_data)\n",
        "predictions3 = cvModel.transform(test_data)\n",
        "print(evaluator.evaluate(predictions3))"
      ],
      "metadata": {
        "colab": {
          "base_uri": "https://localhost:8080/"
        },
        "id": "sT0Nr47nMTIX",
        "outputId": "48131540-26c0-44db-e8c3-dffc838186ec"
      },
      "execution_count": null,
      "outputs": [
        {
          "output_type": "stream",
          "name": "stderr",
          "text": [
            "Exception ignored in: <function JavaWrapper.__del__ at 0x7dbaed496290>\n",
            "Traceback (most recent call last):\n",
            "  File \"/usr/local/lib/python3.10/dist-packages/pyspark/ml/wrapper.py\", line 53, in __del__\n",
            "    if SparkContext._active_spark_context and self._java_obj is not None:\n",
            "AttributeError: 'VectorAssembler' object has no attribute '_java_obj'\n"
          ]
        },
        {
          "output_type": "stream",
          "name": "stdout",
          "text": [
            "0.7415149310998854\n"
          ]
        }
      ]
    },
    {
      "cell_type": "markdown",
      "source": [
        "INFERENCE :\n",
        "\n",
        "Among the models\n",
        "            \n",
        "\n",
        "*   LogisticRegression()\n",
        "*   DecisionTreeClassifier()\n",
        "*   RandomForestClassifier()\n",
        "\n",
        "DecisionTreeClassifier() has the highest evaluation score of 0.79\n",
        "\n"
      ],
      "metadata": {
        "id": "IJZGaRrBcaK5"
      }
    },
    {
      "cell_type": "markdown",
      "source": [
        "CONCLUSION:\n",
        "\n",
        "The data is extremaly unbalanced, however it was possible to make all the data analysis and create with good scores.\n",
        "\n",
        "The company may expect a revenue of R$ 57,251,574.44. This result may show the capacity of a project of data science and help the company."
      ],
      "metadata": {
        "id": "rOY-RogXgVuY"
      }
    }
  ]
}